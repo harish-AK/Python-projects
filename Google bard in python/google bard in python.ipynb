{
 "cells": [
  {
   "cell_type": "code",
   "execution_count": 24,
   "id": "e023b596",
   "metadata": {},
   "outputs": [
    {
     "ename": "ImportError",
     "evalue": "cannot import name 'summarizer' from 'bardapi' (D:\\Anaconda\\Lib\\site-packages\\bardapi\\__init__.py)",
     "output_type": "error",
     "traceback": [
      "\u001b[1;31m---------------------------------------------------------------------------\u001b[0m",
      "\u001b[1;31mImportError\u001b[0m                               Traceback (most recent call last)",
      "Cell \u001b[1;32mIn[24], line 1\u001b[0m\n\u001b[1;32m----> 1\u001b[0m \u001b[38;5;28;01mfrom\u001b[39;00m \u001b[38;5;21;01mbardapi\u001b[39;00m \u001b[38;5;28;01mimport\u001b[39;00m summarizer\n\u001b[0;32m      3\u001b[0m \u001b[38;5;66;03m# Input text to be summarized\u001b[39;00m\n\u001b[0;32m      4\u001b[0m input_text \u001b[38;5;241m=\u001b[39m \u001b[38;5;124m'''\u001b[39m\n\u001b[0;32m      5\u001b[0m \u001b[38;5;124mOn a sunny day, John went to the park to play baseball with his friends. He hit a home run and everyone cheered.\u001b[39m\n\u001b[0;32m      6\u001b[0m \u001b[38;5;124m'''\u001b[39m\n",
      "\u001b[1;31mImportError\u001b[0m: cannot import name 'summarizer' from 'bardapi' (D:\\Anaconda\\Lib\\site-packages\\bardapi\\__init__.py)"
     ]
    }
   ],
   "source": [
    "from bardapi import summarizer\n",
    " \n",
    "# Input text to be summarized\n",
    "input_text = '''\n",
    "On a sunny day, John went to the park to play baseball with his friends. He hit a home run and everyone cheered.\n",
    "'''\n",
    " \n",
    "# Summarize the input text with Bard-API\n",
    "summary = summarizer.summarize(input_text)\n",
    " \n",
    "print(summary)\n",
    "# Output: \"John hit a home "
   ]
  },
  {
   "cell_type": "code",
   "execution_count": null,
   "id": "5adc631f",
   "metadata": {},
   "outputs": [],
   "source": []
  },
  {
   "cell_type": "code",
   "execution_count": null,
   "id": "7e37698e",
   "metadata": {},
   "outputs": [],
   "source": []
  },
  {
   "cell_type": "code",
   "execution_count": null,
   "id": "7864f6c2",
   "metadata": {},
   "outputs": [],
   "source": []
  },
  {
   "cell_type": "code",
   "execution_count": null,
   "id": "6061e689",
   "metadata": {},
   "outputs": [],
   "source": []
  }
 ],
 "metadata": {
  "kernelspec": {
   "display_name": "Python 3 (ipykernel)",
   "language": "python",
   "name": "python3"
  },
  "language_info": {
   "codemirror_mode": {
    "name": "ipython",
    "version": 3
   },
   "file_extension": ".py",
   "mimetype": "text/x-python",
   "name": "python",
   "nbconvert_exporter": "python",
   "pygments_lexer": "ipython3",
   "version": "3.11.5"
  }
 },
 "nbformat": 4,
 "nbformat_minor": 5
}
