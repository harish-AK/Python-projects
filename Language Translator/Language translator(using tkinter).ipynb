{
 "cells": [
  {
   "cell_type": "code",
   "execution_count": 2,
   "id": "8615cebb-8d87-4d68-a36c-eb39e66b514f",
   "metadata": {},
   "outputs": [],
   "source": [
    "from tkinter import *\n",
    "from tkinter import ttk,messagebox\n",
    "import googletrans\n",
    "from googletrans import Translator"
   ]
  },
  {
   "cell_type": "code",
   "execution_count": 46,
   "id": "bb096b8a",
   "metadata": {},
   "outputs": [
    {
     "name": "stdout",
     "output_type": "stream",
     "text": [
      "Translation error: invalid destination language\n"
     ]
    }
   ],
   "source": [
    "# Import necessary modules\n",
    "from tkinter import *\n",
    "from tkinter import ttk\n",
    "from googletrans import Translator, LANGUAGES\n",
    "\n",
    "# Create the main window\n",
    "root = Tk()\n",
    "root.geometry('1100x320') # Set the window size\n",
    "root['bg'] = 'black' # Set background color\n",
    "root.title('Translator') # Set window title\n",
    "\n",
    "# Create a label for the title\n",
    "Label(root, text=\"Language Translator\", font=\"Arial 20 bold\").pack()\n",
    "\n",
    "# Create a label for the input text\n",
    "Label(root, text=\"Enter Text\", font='arial 13 bold', bg='white smoke').place(x=165, y=90)\n",
    "\n",
    "# Create an entry widget for user input\n",
    "Input_text = Entry(root, width=50)\n",
    "# Input_text.pack(pady=20)  # Add padding to increase height\n",
    "Input_text.place(x=63, y=130)\n",
    "\n",
    "# Create a label for the output\n",
    "Label(root, text=\"Output\", font='arial 13 bold', bg='white smoke').place(x=780, y=90)\n",
    "\n",
    "# Create a text widget for displaying the translation\n",
    "Output_text = Text(root, font='arial 10', height=5, wrap=WORD, padx=5, pady=5, width=50)\n",
    "Output_text.place(x=600, y=130)\n",
    "\n",
    "# Get the list of supported languages\n",
    "language = list(LANGUAGES.values())\n",
    "\n",
    "# Create a Combobox for selecting the destination language\n",
    "dest_lang = ttk.Combobox(root, values=language, width=22)\n",
    "dest_lang.place(x=600, y=95)\n",
    "dest_lang.set('Choose Language') # Set default value\n",
    "\n",
    "# Function to perform translation\n",
    "def Translate():\n",
    "    try:\n",
    "        # Create a Translator object\n",
    "        translator = Translator()\n",
    "\n",
    "        # Translate the input text to the selected destination language\n",
    "        translation = translator.translate(Input_text.get(), dest=dest_lang.get()) # src , dest\n",
    "\n",
    "        # Clear the output text and insert the translation\n",
    "        Output_text.delete(1.0, END)\n",
    "        Output_text.insert(END, translation.text)\n",
    "    except Exception as e:\n",
    "        print(f\"Translation error: {e}\")\n",
    "\n",
    "# Create a button for triggering translation\n",
    "trans_btn = Button(root, text='Translate', font='arial 12 bold', pady=5, command=Translate, bg='orange', activebackground='green')\n",
    "trans_btn.place(x=445, y=180)\n",
    "\n",
    "# Start the Tkinter event loop\n",
    "root.mainloop()\n"
   ]
  },
  {
   "cell_type": "code",
   "execution_count": 12,
   "id": "e952cdea-4f2a-43f3-adf8-eb5befe62e36",
   "metadata": {},
   "outputs": [],
   "source": []
  },
  {
   "cell_type": "code",
   "execution_count": 10,
   "id": "679bdb92",
   "metadata": {},
   "outputs": [],
   "source": []
  },
  {
   "cell_type": "code",
   "execution_count": null,
   "id": "a2e90a1b",
   "metadata": {},
   "outputs": [],
   "source": []
  }
 ],
 "metadata": {
  "kernelspec": {
   "display_name": "Python 3 (ipykernel)",
   "language": "python",
   "name": "python3"
  },
  "language_info": {
   "codemirror_mode": {
    "name": "ipython",
    "version": 3
   },
   "file_extension": ".py",
   "mimetype": "text/x-python",
   "name": "python",
   "nbconvert_exporter": "python",
   "pygments_lexer": "ipython3",
   "version": "3.11.5"
  }
 },
 "nbformat": 4,
 "nbformat_minor": 5
}
