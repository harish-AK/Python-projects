{
 "cells": [
  {
   "cell_type": "code",
   "execution_count": 2,
   "id": "5f9806fe",
   "metadata": {},
   "outputs": [],
   "source": [
    "from tkinter import *\n",
    "from tkinter.messagebox import showinfo\n",
    "from gtts import gTTS\n",
    "import speech_recognition as sr\n",
    "import os"
   ]
  },
  {
   "cell_type": "code",
   "execution_count": 20,
   "id": "1ba153f0",
   "metadata": {},
   "outputs": [
    {
     "data": {
      "text/plain": [
       "0"
      ]
     },
     "execution_count": 20,
     "metadata": {},
     "output_type": "execute_result"
    }
   ],
   "source": [
    "from gtts import gTTS \n",
    "import os \n",
    "  \n",
    "# The text that you want to convert to audio \n",
    "mytext = 'Messi is better than ronaldo '\n",
    "  \n",
    "# Language in which you want to convert \n",
    "language = 'en'\n",
    "  \n",
    "# Passing the text and language to the engine,  \n",
    "# here we have marked slow=False. Which tells  \n",
    "# the module that the converted audio should  \n",
    "# have a high speed \n",
    "\n",
    "myobj = gTTS(text=mytext, lang=language, slow=False) \n",
    "# Saving the converted audio in a mp3 file named \n",
    "# welcome  \n",
    "myobj.save(\"vanakkam.mp3\") \n",
    "  \n",
    "# Playing the converted file \n",
    "os.system(\"vanakkam.mp3\") "
   ]
  },
  {
   "cell_type": "code",
   "execution_count": 3,
   "id": "218e251c",
   "metadata": {},
   "outputs": [],
   "source": [
    "mainwindow= Tk()\n",
    "mainwindow.title(' Text-To-Speech')\n",
    "mainwindow.geometry('500x500')\n",
    "mainwindow.resizable(0, 0)\n",
    "mainwindow.configure(bg='red')\n",
    "\n",
    "def say(text1):\n",
    "    language = 'en'\n",
    "    speech = gTTS(text = text1, lang = language, slow = False) # gTTS used to convert the text to speech\n",
    "    speech.save(\"text.mp3\")\n",
    "    os.system(\"start text.mp3\")\n",
    "\n",
    "def TextToSpeech():\n",
    "    texttospeechwindow = Toplevel(mainwindow)\n",
    "    texttospeechwindow.title('Text-to-Speech ')\n",
    "    texttospeechwindow.geometry(\"500x500\")\n",
    "    texttospeechwindow.configure(bg='Blue')\n",
    " \n",
    "    Label(texttospeechwindow, text='Text-to-Speech', font=(\"Times New Roman\", 15), bg='Blue').place(x=50)\n",
    " \n",
    "    text = Text(texttospeechwindow, height=5, width=30, font=12)\n",
    "    text.place(x=7, y=60)\n",
    "   \n",
    "    speakbutton = Button(texttospeechwindow, text='listen', bg='coral', command=lambda: say(str(text.get(1.0, END))))\n",
    "    speakbutton.place(x=140, y=200)\n",
    "texttospeechbutton = Button(mainwindow, text='Text-To-Speech Conversion', font=('Times New Roman', 16), bg='Purple', command=TextToSpeech)\n",
    "texttospeechbutton.place(x=100, y=150)\n",
    "mainwindow.update()\n",
    "mainwindow.mainloop()"
   ]
  },
  {
   "cell_type": "code",
   "execution_count": null,
   "id": "90b26c61",
   "metadata": {},
   "outputs": [],
   "source": []
  },
  {
   "cell_type": "code",
   "execution_count": null,
   "id": "e721db8e",
   "metadata": {},
   "outputs": [],
   "source": []
  }
 ],
 "metadata": {
  "kernelspec": {
   "display_name": "Python 3 (ipykernel)",
   "language": "python",
   "name": "python3"
  },
  "language_info": {
   "codemirror_mode": {
    "name": "ipython",
    "version": 3
   },
   "file_extension": ".py",
   "mimetype": "text/x-python",
   "name": "python",
   "nbconvert_exporter": "python",
   "pygments_lexer": "ipython3",
   "version": "3.11.5"
  }
 },
 "nbformat": 4,
 "nbformat_minor": 5
}
